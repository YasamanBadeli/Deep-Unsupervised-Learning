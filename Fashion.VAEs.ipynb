{
 "cells": [
  {
   "cell_type": "markdown",
   "id": "e867f8df-488d-402c-aa85-1413889af88f",
   "metadata": {},
   "source": [
    "# 🧵 Fashion Dataset AI System\n",
    "We are developing an AI system using deep learning techniques like Variational Autoencoders (VAE), and Generative Adversarial Networks (GANs) with a Fashion dataset. These models will help in clothing style feature extraction, attribute classification, and synthetic fashion item generation. By leveraging these approaches, we aim to enhance style recognition, denoising, and fashion design prototyping for improved image analysis."
   ]
  },
  {
   "cell_type": "code",
   "execution_count": 13,
   "id": "c150d1d1-bf86-45fc-844e-4ce666d3287a",
   "metadata": {},
   "outputs": [],
   "source": [
    "import os\n",
    "from PIL import Image\n",
    "import torch\n",
    "from torch.utils.data import Dataset\n",
    "from torch.utils.data import DataLoader\n",
    "from torchvision import datasets, transforms\n",
    "import torch.nn as nn\n",
    "import torch.nn.functional as F\n",
    "import pandas as pd\n",
    "import torch.optim as optim\n",
    "import matplotlib.pyplot as plt\n",
    "from torchvision.utils import make_grid\n",
    "import numpy as np"
   ]
  },
  {
   "cell_type": "code",
   "execution_count": 55,
   "id": "c1b03e02-4a5d-42e8-9474-192373f90545",
   "metadata": {},
   "outputs": [],
   "source": [
    "device = torch.device(\"cuda\" if torch.cuda.is_available() else \"cpu\")"
   ]
  },
  {
   "cell_type": "code",
   "execution_count": 87,
   "id": "4bc74a6f-c36b-4004-a471-b9f86676f604",
   "metadata": {},
   "outputs": [],
   "source": [
    "base_path = r\"C:\\Users\\yasam\\Semester5\\UnsupervisedLearning\\Project\\fashion-dataset\"\n",
    "images_file_path = os.path.join(base_path, \"images.csv\")\n",
    "images_df = pd.read_csv(images_file_path)\n",
    "\n",
    "styles_file_path = os.path.join(base_path, \"styles.csv\")\n",
    "styles_df = pd.read_csv(styles_file_path, on_bad_lines='skip')\n"
   ]
  },
  {
   "cell_type": "code",
   "execution_count": 88,
   "id": "d4ba3b15-517e-427a-8e95-d61187e58f42",
   "metadata": {},
   "outputs": [
    {
     "data": {
      "text/html": [
       "<div>\n",
       "<style scoped>\n",
       "    .dataframe tbody tr th:only-of-type {\n",
       "        vertical-align: middle;\n",
       "    }\n",
       "\n",
       "    .dataframe tbody tr th {\n",
       "        vertical-align: top;\n",
       "    }\n",
       "\n",
       "    .dataframe thead th {\n",
       "        text-align: right;\n",
       "    }\n",
       "</style>\n",
       "<table border=\"1\" class=\"dataframe\">\n",
       "  <thead>\n",
       "    <tr style=\"text-align: right;\">\n",
       "      <th></th>\n",
       "      <th>filename</th>\n",
       "      <th>link</th>\n",
       "    </tr>\n",
       "  </thead>\n",
       "  <tbody>\n",
       "    <tr>\n",
       "      <th>0</th>\n",
       "      <td>15970.jpg</td>\n",
       "      <td>http://assets.myntassets.com/v1/images/style/p...</td>\n",
       "    </tr>\n",
       "    <tr>\n",
       "      <th>1</th>\n",
       "      <td>39386.jpg</td>\n",
       "      <td>http://assets.myntassets.com/v1/images/style/p...</td>\n",
       "    </tr>\n",
       "    <tr>\n",
       "      <th>2</th>\n",
       "      <td>59263.jpg</td>\n",
       "      <td>http://assets.myntassets.com/v1/images/style/p...</td>\n",
       "    </tr>\n",
       "    <tr>\n",
       "      <th>3</th>\n",
       "      <td>21379.jpg</td>\n",
       "      <td>http://assets.myntassets.com/v1/images/style/p...</td>\n",
       "    </tr>\n",
       "    <tr>\n",
       "      <th>4</th>\n",
       "      <td>53759.jpg</td>\n",
       "      <td>http://assets.myntassets.com/v1/images/style/p...</td>\n",
       "    </tr>\n",
       "    <tr>\n",
       "      <th>...</th>\n",
       "      <td>...</td>\n",
       "      <td>...</td>\n",
       "    </tr>\n",
       "    <tr>\n",
       "      <th>44441</th>\n",
       "      <td>17036.jpg</td>\n",
       "      <td>http://assets.myntassets.com/v1/images/style/p...</td>\n",
       "    </tr>\n",
       "    <tr>\n",
       "      <th>44442</th>\n",
       "      <td>6461.jpg</td>\n",
       "      <td>http://assets.myntassets.com/v1/images/style/p...</td>\n",
       "    </tr>\n",
       "    <tr>\n",
       "      <th>44443</th>\n",
       "      <td>18842.jpg</td>\n",
       "      <td>http://assets.myntassets.com/v1/images/style/p...</td>\n",
       "    </tr>\n",
       "    <tr>\n",
       "      <th>44444</th>\n",
       "      <td>46694.jpg</td>\n",
       "      <td>http://assets.myntassets.com/v1/images/style/p...</td>\n",
       "    </tr>\n",
       "    <tr>\n",
       "      <th>44445</th>\n",
       "      <td>51623.jpg</td>\n",
       "      <td>http://assets.myntassets.com/assets/images/516...</td>\n",
       "    </tr>\n",
       "  </tbody>\n",
       "</table>\n",
       "<p>44446 rows × 2 columns</p>\n",
       "</div>"
      ],
      "text/plain": [
       "        filename                                               link\n",
       "0      15970.jpg  http://assets.myntassets.com/v1/images/style/p...\n",
       "1      39386.jpg  http://assets.myntassets.com/v1/images/style/p...\n",
       "2      59263.jpg  http://assets.myntassets.com/v1/images/style/p...\n",
       "3      21379.jpg  http://assets.myntassets.com/v1/images/style/p...\n",
       "4      53759.jpg  http://assets.myntassets.com/v1/images/style/p...\n",
       "...          ...                                                ...\n",
       "44441  17036.jpg  http://assets.myntassets.com/v1/images/style/p...\n",
       "44442   6461.jpg  http://assets.myntassets.com/v1/images/style/p...\n",
       "44443  18842.jpg  http://assets.myntassets.com/v1/images/style/p...\n",
       "44444  46694.jpg  http://assets.myntassets.com/v1/images/style/p...\n",
       "44445  51623.jpg  http://assets.myntassets.com/assets/images/516...\n",
       "\n",
       "[44446 rows x 2 columns]"
      ]
     },
     "execution_count": 88,
     "metadata": {},
     "output_type": "execute_result"
    }
   ],
   "source": [
    "images_df"
   ]
  },
  {
   "cell_type": "code",
   "execution_count": 105,
   "id": "a3cd028e-cd4c-4d3d-ae1e-b2922b80c082",
   "metadata": {},
   "outputs": [
    {
     "name": "stdout",
     "output_type": "stream",
     "text": [
      "    filename                                               link     id\n",
      "0  15970.jpg  http://assets.myntassets.com/v1/images/style/p...  15970\n",
      "1  39386.jpg  http://assets.myntassets.com/v1/images/style/p...  39386\n",
      "2  59263.jpg  http://assets.myntassets.com/v1/images/style/p...  59263\n",
      "3  21379.jpg  http://assets.myntassets.com/v1/images/style/p...  21379\n",
      "4  53759.jpg  http://assets.myntassets.com/v1/images/style/p...  53759\n",
      "      id  articleType\n",
      "0  15970       Shirts\n",
      "1  39386        Jeans\n",
      "2  59263      Watches\n",
      "3  21379  Track Pants\n",
      "4  53759      Tshirts\n"
     ]
    }
   ],
   "source": [
    "print(images_df.head())\n",
    "print(styles_df[['id', 'articleType']].head())"
   ]
  },
  {
   "cell_type": "code",
   "execution_count": 106,
   "id": "8ede6a1f-36f4-4fe8-9e86-ecd922ee0ce5",
   "metadata": {},
   "outputs": [
    {
     "name": "stdout",
     "output_type": "stream",
     "text": [
      "0    15970\n",
      "1    39386\n",
      "2    59263\n",
      "3    21379\n",
      "4    53759\n",
      "Name: id, dtype: int32\n",
      "Series([], Name: id, dtype: int64)\n"
     ]
    }
   ],
   "source": [
    "images_df['id'] = images_df['filename'].str.replace('.jpg', '', regex=False).astype(int)\n",
    "print(images_df['id'].head())\n",
    "print(filtered_styles['id'].head())"
   ]
  },
  {
   "cell_type": "code",
   "execution_count": 108,
   "id": "813970f9-1035-4529-9b38-caef9080a357",
   "metadata": {},
   "outputs": [
    {
     "name": "stdout",
     "output_type": "stream",
     "text": [
      "['15970.jpg' '39386.jpg' '59263.jpg' '21379.jpg' '53759.jpg']\n"
     ]
    }
   ],
   "source": [
    "print(images_df['filename'].unique()[:5])"
   ]
  },
  {
   "cell_type": "code",
   "execution_count": 109,
   "id": "06bd11b1-2594-43d2-9e68-9a20945d94f6",
   "metadata": {},
   "outputs": [],
   "source": [
    "images_df['id'] = images_df['filename'].str.extract(r'(\\d+)').astype(int)"
   ]
  },
  {
   "cell_type": "code",
   "execution_count": 120,
   "id": "1ca5b34d-d63f-44d2-af86-e90a37312d98",
   "metadata": {},
   "outputs": [
    {
     "name": "stdout",
     "output_type": "stream",
     "text": [
      "      id  articleType\n",
      "0  15970       Shirts\n",
      "1  39386        Jeans\n",
      "2  59263      Watches\n",
      "3  21379  Track Pants\n",
      "4  53759      Tshirts\n",
      "5   1855      Tshirts\n",
      "6  30805       Shirts\n",
      "7  26960       Shirts\n",
      "8  29114        Socks\n",
      "9  30039      Watches\n"
     ]
    }
   ],
   "source": [
    "print(styles_df[['id', 'articleType']].head(10))"
   ]
  },
  {
   "cell_type": "code",
   "execution_count": 126,
   "id": "35f0b5a7-20ec-413a-9ee4-2de2a529a1f9",
   "metadata": {},
   "outputs": [
    {
     "name": "stdout",
     "output_type": "stream",
     "text": [
      "0     15970.jpg\n",
      "1     39386.jpg\n",
      "2     59263.jpg\n",
      "3     21379.jpg\n",
      "4     53759.jpg\n",
      "5      1855.jpg\n",
      "6     30805.jpg\n",
      "7     26960.jpg\n",
      "8     29114.jpg\n",
      "9     30039.jpg\n",
      "10     9204.jpg\n",
      "11    48123.jpg\n",
      "12    18653.jpg\n",
      "13    47957.jpg\n",
      "14    46885.jpg\n",
      "15    12369.jpg\n",
      "16    29928.jpg\n",
      "17    42419.jpg\n",
      "18    51832.jpg\n",
      "19    47359.jpg\n",
      "Name: filename, dtype: object\n"
     ]
    }
   ],
   "source": [
    "print(images_df['filename'].head(20))"
   ]
  },
  {
   "cell_type": "code",
   "execution_count": 127,
   "id": "c80f0d2b-fb0b-44dd-8458-3e9594b724a0",
   "metadata": {},
   "outputs": [
    {
     "name": "stdout",
     "output_type": "stream",
     "text": [
      "0    15970\n",
      "1    39386\n",
      "2    59263\n",
      "3    21379\n",
      "4    53759\n",
      "5     1855\n",
      "6    30805\n",
      "7    26960\n",
      "8    29114\n",
      "9    30039\n",
      "Name: id, dtype: object\n",
      "id\n",
      "True    44446\n",
      "Name: count, dtype: int64\n"
     ]
    }
   ],
   "source": [
    "images_df['id'] = images_df['filename'].str.replace('.jpg', '', regex=False)\n",
    "print(images_df['id'].head(10))\n",
    "print(images_df['id'].str.isnumeric().value_counts())"
   ]
  },
  {
   "cell_type": "code",
   "execution_count": 129,
   "id": "bf03bb26-0bc1-4a5b-90f3-9cefe79c80b8",
   "metadata": {},
   "outputs": [
    {
     "name": "stdout",
     "output_type": "stream",
     "text": [
      "articleType\n",
      "Tshirts                  7067\n",
      "Shirts                   3217\n",
      "Casual Shoes             2845\n",
      "Watches                  2542\n",
      "Sports Shoes             2036\n",
      "Kurtas                   1844\n",
      "Tops                     1762\n",
      "Handbags                 1759\n",
      "Heels                    1323\n",
      "Sunglasses               1073\n",
      "Wallets                   936\n",
      "Flip Flops                914\n",
      "Sandals                   897\n",
      "Briefs                    849\n",
      "Belts                     813\n",
      "Backpacks                 724\n",
      "Socks                     686\n",
      "Formal Shoes              637\n",
      "Perfume and Body Mist     613\n",
      "Jeans                     609\n",
      "Name: count, dtype: int64\n"
     ]
    }
   ],
   "source": [
    "print(styles_df['articleType'].value_counts().head(20))"
   ]
  },
  {
   "cell_type": "markdown",
   "id": "65372731-32d7-45c3-aa3f-c996f4799edf",
   "metadata": {},
   "source": [
    "# Denoising VAEs Model"
   ]
  },
  {
   "cell_type": "code",
   "execution_count": 134,
   "id": "03dd3cff-add6-4004-83a3-538276d80cdb",
   "metadata": {},
   "outputs": [],
   "source": [
    "# First add noising function\n",
    "\n",
    "def add_noise(img, noise_factor=0.1):\n",
    "    \"\"\"Add random Gaussian noise to images\"\"\"\n",
    "    noise = torch.randn_like(img) * noise_factor\n",
    "    img_noisy = torch.clamp(img + noise, 0., 1.)\n",
    "    return img_noisy"
   ]
  },
  {
   "cell_type": "code",
   "execution_count": 135,
   "id": "fde0b581-1dcc-4028-a8f1-4ed87598732b",
   "metadata": {},
   "outputs": [],
   "source": [
    "class DenoisingAutoencoder(nn.Module):\n",
    "    def __init__(self):\n",
    "        super(DenoisingAutoencoder, self).__init__()\n",
    "        # Encoder\n",
    "        self.encoder = nn.Sequential(\n",
    "            nn.Conv2d(3, 64, kernel_size=3, stride=1, padding=1),\n",
    "            nn.ReLU(),\n",
    "            nn.MaxPool2d(kernel_size=2, stride=2),\n",
    "            nn.Conv2d(64, 128, kernel_size=3, stride=1, padding=1),\n",
    "            nn.ReLU(),\n",
    "            nn.MaxPool2d(kernel_size=2, stride=2),\n",
    "            nn.Conv2d(128, 256, kernel_size=3, stride=1, padding=1),\n",
    "            nn.ReLU(),\n",
    "            nn.MaxPool2d(kernel_size=2, stride=2)\n",
    "        )\n",
    "        # Decoder\n",
    "        self.decoder = nn.Sequential(\n",
    "            nn.ConvTranspose2d(256, 128, kernel_size=3, stride=2, padding=1, output_padding=1),\n",
    "            nn.ReLU(),\n",
    "            nn.ConvTranspose2d(128, 64, kernel_size=3, stride=2, padding=1, output_padding=1),\n",
    "            nn.ReLU(),\n",
    "            nn.ConvTranspose2d(64, 3, kernel_size=3, stride=2, padding=1, output_padding=1),\n",
    "            nn.Sigmoid()  # Sigmoid to output values between 0 and 1\n",
    "        )\n",
    "\n",
    "    def forward(self, x):\n",
    "        x = self.encoder(x)\n",
    "        x = self.decoder(x)\n",
    "        return x"
   ]
  },
  {
   "cell_type": "code",
   "execution_count": 15,
   "id": "2396795c-c520-4555-96d3-32d2bbc28787",
   "metadata": {},
   "outputs": [],
   "source": [
    "def add_noise(img):\n",
    "    noise = torch.randn_like(img) * 0.1\n",
    "    img_noisy = torch.clamp(img + noise, 0., 1.)\n",
    "    return img_noisy"
   ]
  },
  {
   "cell_type": "markdown",
   "id": "bef59dd7-1a46-4725-963f-28e759d79740",
   "metadata": {},
   "source": [
    "# Training Function for One Epoch "
   ]
  },
  {
   "cell_type": "code",
   "execution_count": 159,
   "id": "7c8bc706-c1ca-422b-b4b0-a194d7c5afe7",
   "metadata": {},
   "outputs": [],
   "source": [
    "def main_denoising_fashion(base_path, selected_classes=['Dress', 'Shoes']):\n",
    "    device = torch.device('cuda' if torch.cuda.is_available() else 'cpu')\n",
    "    image_folder = os.path.join(base_path, \"images\")\n",
    "\n",
    "    # Load CSV files\n",
    "    styles_df = pd.read_csv(os.path.join(base_path, \"styles.csv\"), on_bad_lines='skip')\n",
    "    styles_df = styles_df[styles_df['articleType'].isin(selected_classes)].dropna(subset=['id', 'articleType'])\n",
    "\n",
    "    # Ensure valid int IDs and file paths\n",
    "    styles_df['id'] = styles_df['id'].astype(str)\n",
    "    styles_df['filename'] = styles_df['id'].apply(lambda x: x + \".jpg\")\n",
    "    styles_df['image_path'] = styles_df['filename'].apply(lambda x: os.path.join(image_folder, x))\n",
    "    styles_df = styles_df[styles_df['image_path'].apply(os.path.exists)]\n",
    "\n",
    "    # Define transforms\n",
    "    transform = transforms.Compose([\n",
    "        transforms.Resize((64, 64)),\n",
    "        transforms.ToTensor()\n",
    "    ])\n",
    "\n",
    "    # Results\n",
    "    confusion_mat = np.zeros((len(selected_classes), len(selected_classes)))\n",
    "    all_train_losses, all_val_losses, all_aurocs, all_thresholds = [], [], [], []\n",
    "\n",
    "    for i, class_name in enumerate(selected_classes):\n",
    "        print(f\"\\nTraining for class: {class_name}\")\n",
    "\n",
    "        # Split data\n",
    "        class_df = styles_df[styles_df['articleType'] == class_name]\n",
    "        others_df = styles_df[styles_df['articleType'] != class_name]\n",
    "        train_df, val_df = train_test_split(class_df, test_size=0.2, random_state=42)\n",
    "\n",
    "        # Create loaders\n",
    "        train_set = FashionDatasetFromCSV(train_df, transform)\n",
    "        val_set = FashionDatasetFromCSV(val_df, transform)\n",
    "        others_set = FashionDatasetFromCSV(others_df, transform)\n",
    "\n",
    "        train_loader = DataLoader(train_set, batch_size=64, shuffle=True)\n",
    "        val_loader = DataLoader(val_set, batch_size=64, shuffle=False)\n",
    "        ano_loader = DataLoader(others_set, batch_size=64, shuffle=False)\n",
    "\n",
    "        # Model\n",
    "        model = VanillaAutoencoder(latent_dim=32).to(device)\n",
    "        optimizer = torch.optim.Adam(model.parameters(), lr=1e-3)\n",
    "        criterion = nn.MSELoss()\n",
    "\n",
    "        # Training\n",
    "        train_losses, val_losses = [], []\n",
    "        for epoch in range(10):\n",
    "            loss = train_denoising_epoch(model, train_loader, criterion, optimizer, device)\n",
    "            val_loss = evaluate_model(model, val_loader, criterion, device)\n",
    "            train_losses.append(loss)\n",
    "            val_losses.append(val_loss)\n",
    "            print(f\"Epoch {epoch+1}, Train Loss: {loss:.4f}, Val Loss: {val_loss:.4f}\")\n",
    "\n",
    "        all_train_losses.append(train_losses)\n",
    "        all_val_losses.append(val_losses)\n",
    "\n",
    "        # AUROC & threshold\n",
    "        auroc = test_model(model, val_loader, [ano_loader], device)\n",
    "        threshold = select_threshold(model, val_loader, ano_loader, device)\n",
    "        all_aurocs.append(auroc)\n",
    "        all_thresholds.append(threshold)\n",
    "\n",
    "        print(f\"AUROC for {class_name}: {auroc:.4f}, Threshold: {threshold:.4f}\")\n",
    "\n",
    "        # Confusion matrix\n",
    "        real_preds = get_predictions(model, val_loader, threshold, device)\n",
    "        ano_preds = get_predictions(model, ano_loader, threshold, device)\n",
    "        confusion_mat[i, i] += np.sum(real_preds == 1)\n",
    "        for j in range(len(selected_classes)):\n",
    "            if j != i:\n",
    "                confusion_mat[i, j] += np.sum(ano_preds == 0)\n",
    "\n",
    "        # Save model\n",
    "        os.makedirs('models/denoising_autoencoder', exist_ok=True)\n",
    "        torch.save(model.state_dict(), f'models/denoising_autoencoder/dae_class_{class_name}.pth')\n",
    "\n",
    "    return confusion_mat, all_aurocs, all_thresholds, all_train_losses, all_val_losses"
   ]
  },
  {
   "cell_type": "markdown",
   "id": "ea490a20-534f-4649-8f84-693e3e9c4c18",
   "metadata": {},
   "source": [
    "# VAE Architecture"
   ]
  },
  {
   "cell_type": "code",
   "execution_count": 3,
   "id": "e11afeed-bc4f-4b75-bf8c-088bcc600009",
   "metadata": {},
   "outputs": [],
   "source": [
    "class DummyFashionDataset(Dataset):\n",
    "    def __init__(self, transform=None):\n",
    "        self.images = [torch.rand(3, 64, 64) for _ in range(100)]\n",
    "        self.transform = transform\n",
    "\n",
    "    def __len__(self):\n",
    "        return len(self.images)\n",
    "\n",
    "    def __getitem__(self, idx):\n",
    "        img = self.images[idx]\n",
    "        return img"
   ]
  },
  {
   "cell_type": "code",
   "execution_count": 4,
   "id": "0af73b78-6a71-4f92-9ae6-f5857318e9cf",
   "metadata": {},
   "outputs": [],
   "source": [
    "class VAE(nn.Module):\n",
    "    def __init__(self, latent_dim=128):\n",
    "        super(VAE, self).__init__()\n",
    "        self.encoder = nn.Sequential(\n",
    "            nn.Conv2d(3, 32, 4, 2, 1), nn.ReLU(),\n",
    "            nn.Conv2d(32, 64, 4, 2, 1), nn.ReLU(),\n",
    "            nn.Conv2d(64, 128, 4, 2, 1), nn.ReLU(),\n",
    "            nn.Flatten()\n",
    "        )\n",
    "        self.fc_mu = nn.Linear(128 * 8 * 8, latent_dim)\n",
    "        self.fc_logvar = nn.Linear(128 * 8 * 8, latent_dim)\n",
    "        self.decoder_input = nn.Linear(latent_dim, 128 * 8 * 8)\n",
    "        self.decoder = nn.Sequential(\n",
    "            nn.Unflatten(1, (128, 8, 8)),\n",
    "            nn.ConvTranspose2d(128, 64, 4, 2, 1), nn.ReLU(),\n",
    "            nn.ConvTranspose2d(64, 32, 4, 2, 1), nn.ReLU(),\n",
    "            nn.ConvTranspose2d(32, 3, 4, 2, 1), nn.Sigmoid()\n",
    "        )\n",
    "\n",
    "    def reparameterize(self, mu, logvar):\n",
    "        std = torch.exp(0.5 * logvar)\n",
    "        eps = torch.randn_like(std)\n",
    "        return mu + eps * std\n",
    "\n",
    "    def forward(self, x):\n",
    "        encoded = self.encoder(x)\n",
    "        mu = self.fc_mu(encoded)\n",
    "        logvar = self.fc_logvar(encoded)\n",
    "        z = self.reparameterize(mu, logvar)\n",
    "        decoded = self.decoder(self.decoder_input(z))\n",
    "        return decoded, mu, logvar"
   ]
  },
  {
   "cell_type": "code",
   "execution_count": 5,
   "id": "90eccd85-81a8-4db3-b5ab-169c82ed4549",
   "metadata": {},
   "outputs": [],
   "source": [
    "def vae_loss(recon_x, x, mu, logvar):\n",
    "    recon_loss = F.mse_loss(recon_x, x, reduction='sum')\n",
    "    kl_div = -0.5 * torch.sum(1 + logvar - mu.pow(2) - logvar.exp())\n",
    "    return recon_loss + kl_div"
   ]
  },
  {
   "cell_type": "code",
   "execution_count": 10,
   "id": "65a879fc-710f-45c2-83ca-7b5b92d94fbb",
   "metadata": {},
   "outputs": [],
   "source": [
    "def train_vae(model, data_loader, optimizer, device, epochs=5):\n",
    "    model.train()\n",
    "    for epoch in range(epochs):\n",
    "        total_loss = 0\n",
    "        for batch in data_loader:\n",
    "            batch = batch.to(device)\n",
    "            optimizer.zero_grad()\n",
    "            recon, mu, logvar = model(batch)\n",
    "            loss = vae_loss(recon, batch, mu, logvar)\n",
    "            loss.backward()\n",
    "            optimizer.step()\n",
    "            total_loss += loss.item()\n",
    "            print(f\"Epoch {epoch}, Loss: {total_loss / len(data_loader):.2f}\")"
   ]
  },
  {
   "cell_type": "code",
   "execution_count": 11,
   "id": "b8e180e7-3601-4b62-85f5-9ad5f2f598e6",
   "metadata": {},
   "outputs": [],
   "source": [
    "def show_images(images, title=\"\"):\n",
    "    grid = make_grid(torch.stack(images), nrow=len(images))\n",
    "    plt.figure(figsize=(10, 4))\n",
    "    plt.imshow(grid.permute(1, 2, 0).cpu().numpy())\n",
    "    plt.title(title)\n",
    "    plt.axis('off')\n",
    "    plt.show()"
   ]
  },
  {
   "cell_type": "code",
   "execution_count": 17,
   "id": "d73a7beb-e70b-46e0-9d67-1ad64e11774e",
   "metadata": {},
   "outputs": [
    {
     "name": "stdout",
     "output_type": "stream",
     "text": [
      "Epoch 0, Loss: 2360.37\n",
      "Epoch 0, Loss: 4722.91\n",
      "Epoch 0, Loss: 7080.78\n",
      "Epoch 0, Loss: 9432.03\n",
      "Epoch 0, Loss: 11775.66\n",
      "Epoch 0, Loss: 14122.34\n",
      "Epoch 0, Loss: 14709.43\n",
      "Epoch 1, Loss: 2335.35\n",
      "Epoch 1, Loss: 4678.46\n",
      "Epoch 1, Loss: 7025.20\n",
      "Epoch 1, Loss: 9365.92\n",
      "Epoch 1, Loss: 11709.96\n",
      "Epoch 1, Loss: 14050.22\n",
      "Epoch 1, Loss: 14632.49\n",
      "Epoch 2, Loss: 2343.74\n",
      "Epoch 2, Loss: 4691.37\n",
      "Epoch 2, Loss: 7024.79\n",
      "Epoch 2, Loss: 9358.74\n",
      "Epoch 2, Loss: 11701.53\n",
      "Epoch 2, Loss: 14039.09\n",
      "Epoch 2, Loss: 14624.09\n",
      "Epoch 3, Loss: 2335.66\n",
      "Epoch 3, Loss: 4673.92\n",
      "Epoch 3, Loss: 7010.10\n",
      "Epoch 3, Loss: 9351.01\n",
      "Epoch 3, Loss: 11686.62\n",
      "Epoch 3, Loss: 14030.40\n",
      "Epoch 3, Loss: 14618.16\n",
      "Epoch 4, Loss: 2341.52\n",
      "Epoch 4, Loss: 4682.09\n",
      "Epoch 4, Loss: 7012.31\n",
      "Epoch 4, Loss: 9353.72\n",
      "Epoch 4, Loss: 11691.88\n",
      "Epoch 4, Loss: 14032.59\n",
      "Epoch 4, Loss: 14614.25\n"
     ]
    },
    {
     "data": {
      "image/png": "[encoded data removed]",
      "text/plain": [
       "<Figure size 1000x400 with 1 Axes>"
      ]
     },
     "metadata": {},
     "output_type": "display_data"
    }
   ],
   "source": [
    "dataset = DummyFashionDataset()\n",
    "data_loader = DataLoader(dataset, batch_size=16, shuffle=True)\n",
    "\n",
    "vae = VAE(latent_dim=128).to(device)\n",
    "optimizer = optim.Adam(vae.parameters(), lr=0.001)\n",
    "\n",
    "train_vae(vae, data_loader, optimizer, device, epochs=5)\n",
    "\n",
    "vae.eval()\n",
    "test_img = next(iter(data_loader))[0].to(device)  \n",
    "with torch.no_grad():\n",
    "    sample = test_img.unsqueeze(0) \n",
    "    recon, mu, logvar = vae(sample)\n",
    "    z = vae.reparameterize(mu, logvar)\n",
    "    z_recolored = z + torch.randn_like(z) * 0.2\n",
    "    recolored = vae.decoder(vae.decoder_input(z_recolored))\n",
    "\n",
    "    show_images([sample.squeeze(0), recolored.squeeze(0)], title=\"Original and Recolored (VAE)\")"
   ]
  },
  {
   "cell_type": "code",
   "execution_count": 152,
   "id": "1cd38f9c-1fc6-476a-a68f-f0fb632fcaa2",
   "metadata": {},
   "outputs": [],
   "source": [
    "def train_denoising_epoch(denoising_autoencoder, train_loader, criterion, optimizer, device):\n",
    "    denoising_autoencoder.train()\n",
    "    total_loss = 0\n",
    "    for inputs, _ in train_loader:\n",
    "        inputs = inputs.to(device)\n",
    "        inputs_noisy = add_noise(inputs) \n",
    "        optimizer.zero_grad()\n",
    "        outputs = denoising_autoencoder(inputs_noisy)  \n",
    "        loss = criterion(outputs, inputs)  \n",
    "        loss.backward()\n",
    "        optimizer.step()\n",
    "        total_loss += loss.item()\n",
    "\n",
    "    return total_loss / len(train_loader) "
   ]
  },
  {
   "cell_type": "code",
   "execution_count": 147,
   "id": "4f5dac3f-9ede-4107-a66b-841bc50ba679",
   "metadata": {},
   "outputs": [
    {
     "data": {
      "text/plain": [
       "<Figure size 640x480 with 0 Axes>"
      ]
     },
     "metadata": {},
     "output_type": "display_data"
    }
   ],
   "source": [
    "def visualize_denoising_results(model, data_loader, device, n=6):\n",
    "    model.eval()\n",
    "    data_iter = iter(data_loader)\n",
    "    images, _ = next(data_iter)\n",
    "    images = images[:n].to(device)\n",
    "    \n",
    "    with torch.no_grad():\n",
    "        noisy_images = add_noise(images)\n",
    "        outputs = model(noisy_images)\n",
    "\n",
    "    images = images.cpu()\n",
    "    noisy_images = noisy_images.cpu()\n",
    "    outputs = outputs.cpu()\n",
    "\n",
    "    fig, axes = plt.subplots(3, n, figsize=(n*2, 6))\n",
    "    for i in range(n):\n",
    "        axes[0, i].imshow(images[i].permute(1, 2, 0))\n",
    "        axes[0, i].set_title(\"Original\")\n",
    "        axes[0, i].axis('off')\n",
    "\n",
    "        axes[1, i].imshow(noisy_images[i].permute(1, 2, 0))\n",
    "        axes[1, i].set_title(\"Noisy\")\n",
    "        axes[1, i].axis('off')\n",
    "\n",
    "        axes[2, i].imshow(outputs[i].permute(1, 2, 0))\n",
    "        axes[2, i].set_title(\"Denoised\")\n",
    "        axes[2, i].axis('off')\n",
    "\n",
    "plt.tight_layout()\n",
    "\n",
    "plt.show()"
   ]
  },
  {
   "cell_type": "code",
   "execution_count": null,
   "id": "4eb78ae7-a5ce-4fd8-b7e2-e6e76a8f5517",
   "metadata": {},
   "outputs": [],
   "source": []
  }
 ],
 "metadata": {
  "kernelspec": {
   "display_name": "Python 3 (ipykernel)",
   "language": "python",
   "name": "python3"
  },
  "language_info": {
   "codemirror_mode": {
    "name": "ipython",
    "version": 3
   },
   "file_extension": ".py",
   "mimetype": "text/x-python",
   "name": "python",
   "nbconvert_exporter": "python",
   "pygments_lexer": "ipython3",
   "version": "3.12.3"
  }
 },
 "nbformat": 4,
 "nbformat_minor": 5
}
